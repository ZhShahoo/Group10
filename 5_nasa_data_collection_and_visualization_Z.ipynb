{
 "cells": [
  {
   "cell_type": "markdown",
   "metadata": {},
   "source": [
    "# Project 2：NASA Data Acquisation, Visualization, and Analysis"
   ]
  },
  {
   "cell_type": "code",
   "execution_count": 48,
   "metadata": {},
   "outputs": [],
   "source": [
    "# The code makes sure that once there is change in the 'src/' folder, the \n",
    "# change will be automatically reloaded in the notebook.\n",
    "%reload_ext autoreload\n",
    "%autoreload 2\n",
    "%aimport src"
   ]
  },
  {
   "cell_type": "markdown",
   "metadata": {},
   "source": [
    "### Task 1: Understanding the NASA API and Data Collection\n",
    "\n",
    "- Register for a NASA API key and understand the different types of data that the API provides.\n",
    "- Run the Python script below to fetch data about **Near Earth Objects (NEOs)** from the NASA API for a years data.\n",
    "- Extract and understand the different pieces of data provided for each NEO."
   ]
  },
  {
   "cell_type": "code",
   "execution_count": 49,
   "metadata": {},
   "outputs": [
    {
     "data": {
      "text/plain": [
       "'\\n# Set your NASA API KEY, this step asks you to enter your API KEY.\\n# (The input box may be float in the top on your editor.)\\napi_key = getpass()'"
      ]
     },
     "execution_count": 49,
     "metadata": {},
     "output_type": "execute_result"
    }
   ],
   "source": [
    "import requests\n",
    "import time\n",
    "from datetime import datetime, timedelta\n",
    "from getpass import getpass\n",
    "\"\"\"\n",
    "# Set your NASA API KEY, this step asks you to enter your API KEY.\n",
    "# (The input box may be float in the top on your editor.)\n",
    "api_key = getpass()\"\"\""
   ]
  },
  {
   "cell_type": "code",
   "execution_count": 50,
   "metadata": {},
   "outputs": [
    {
     "data": {
      "text/plain": [
       "'\\n# Set the start and end dates for the data you want to fetch\\n\\nstart_date = datetime.strptime(\\'2022-01-01\\', \\'%Y-%m-%d\\')\\nnum_days = 21\\nend_date = start_date + timedelta(days=num_days)  # 1 year later\\n# change above to full year!\\n# Initialize a list to store the data\\ndata = []\\n\\n# Fetch data from the NASA API 7 days at a time\\n# The introduction of the API is on https://api.nasa.gov, under \"Browse APIs\" -> \"Asteroids NeoWs\"\\n# You can look into the example query in the link below to see what the data look like:\\n# https://api.nasa.gov/neo/rest/v1/feed?start_date=2015-09-07&end_date=2015-09-08&api_key=DEMO_KEY\\ncurrent_date = start_date\\nwhile current_date < end_date:\\n    next_date = min(current_date + timedelta(days=7), end_date)\\n    print(\"Current date: \", current_date)\\n    print(\"Next date: \", next_date)\\n    response = requests.get(f\\'https://api.nasa.gov/neo/rest/v1/feed?start_date={current_date.strftime(\"%Y-%m-%d\")}&end_date={next_date.strftime(\"%Y-%m-%d\")}&api_key={api_key}\\')\\n    data.append(response.json())\\n    current_date = next_date\\n    time.sleep(1)  # To avoid hitting the rate limit\\n\\n# Now \\'data\\' contains the NEO data for the 1-year period\\nprint(data)'"
      ]
     },
     "execution_count": 50,
     "metadata": {},
     "output_type": "execute_result"
    }
   ],
   "source": [
    "\"\"\"\n",
    "# Set the start and end dates for the data you want to fetch\n",
    "\n",
    "start_date = datetime.strptime('2022-01-01', '%Y-%m-%d')\n",
    "num_days = 21\n",
    "end_date = start_date + timedelta(days=num_days)  # 1 year later\n",
    "# change above to full year!\n",
    "# Initialize a list to store the data\n",
    "data = []\n",
    "\n",
    "# Fetch data from the NASA API 7 days at a time\n",
    "# The introduction of the API is on https://api.nasa.gov, under \"Browse APIs\" -> \"Asteroids NeoWs\"\n",
    "# You can look into the example query in the link below to see what the data look like:\n",
    "# https://api.nasa.gov/neo/rest/v1/feed?start_date=2015-09-07&end_date=2015-09-08&api_key=DEMO_KEY\n",
    "current_date = start_date\n",
    "while current_date < end_date:\n",
    "    next_date = min(current_date + timedelta(days=7), end_date)\n",
    "    print(\"Current date: \", current_date)\n",
    "    print(\"Next date: \", next_date)\n",
    "    response = requests.get(f'https://api.nasa.gov/neo/rest/v1/feed?start_date={current_date.strftime(\"%Y-%m-%d\")}&end_date={next_date.strftime(\"%Y-%m-%d\")}&api_key={api_key}')\n",
    "    data.append(response.json())\n",
    "    current_date = next_date\n",
    "    time.sleep(1)  # To avoid hitting the rate limit\n",
    "\n",
    "# Now 'data' contains the NEO data for the 1-year period\n",
    "print(data)\"\"\""
   ]
  },
  {
   "cell_type": "code",
   "execution_count": 51,
   "metadata": {},
   "outputs": [],
   "source": [
    "\n",
    "import json\n",
    "\n",
    "f = open('20_weeks.json')\n",
    "num_days = 139\n"
   ]
  },
  {
   "cell_type": "code",
   "execution_count": 52,
   "metadata": {},
   "outputs": [],
   "source": [
    "\n",
    "data = json.load(f)\n",
    "\n",
    "# Save the data as a JSON file\n",
    "with open('neo_data.json', 'w') as file:\n",
    "    json.dump(data, file)\n",
    "\n"
   ]
  },
  {
   "cell_type": "code",
   "execution_count": 53,
   "metadata": {},
   "outputs": [
    {
     "name": "stdout",
     "output_type": "stream",
     "text": [
      "['2022-01-01', '2022-01-02', '2022-01-03', '2022-01-04', '2022-01-05', '2022-01-06', '2022-01-07', '2022-01-08', '2022-01-08', '2022-01-09', '2022-01-10', '2022-01-11', '2022-01-12', '2022-01-13', '2022-01-14', '2022-01-15', '2022-01-15', '2022-01-16', '2022-01-17', '2022-01-18', '2022-01-19', '2022-01-20', '2022-01-21', '2022-01-22', '2022-01-22', '2022-01-23', '2022-01-24', '2022-01-25', '2022-01-26', '2022-01-27', '2022-01-28', '2022-01-29', '2022-01-29', '2022-01-30', '2022-01-31', '2022-02-01', '2022-02-02', '2022-02-03', '2022-02-04', '2022-02-05', '2022-02-05', '2022-02-06', '2022-02-07', '2022-02-08', '2022-02-09', '2022-02-10', '2022-02-11', '2022-02-12', '2022-02-12', '2022-02-13', '2022-02-14', '2022-02-15', '2022-02-16', '2022-02-17', '2022-02-18', '2022-02-19', '2022-02-19', '2022-02-20', '2022-02-21', '2022-02-22', '2022-02-23', '2022-02-24', '2022-02-25', '2022-02-26', '2022-02-26', '2022-02-27', '2022-02-28', '2022-03-01', '2022-03-02', '2022-03-03', '2022-03-04', '2022-03-05', '2022-03-05', '2022-03-06', '2022-03-07', '2022-03-08', '2022-03-09', '2022-03-10', '2022-03-11', '2022-03-12', '2022-03-12', '2022-03-13', '2022-03-14', '2022-03-15', '2022-03-16', '2022-03-17', '2022-03-18', '2022-03-19', '2022-03-19', '2022-03-20', '2022-03-21', '2022-03-22', '2022-03-23', '2022-03-24', '2022-03-25', '2022-03-26', '2022-03-26', '2022-03-27', '2022-03-28', '2022-03-29', '2022-03-30', '2022-03-31', '2022-04-01', '2022-04-02', '2022-04-02', '2022-04-03', '2022-04-04', '2022-04-05', '2022-04-06', '2022-04-07', '2022-04-08', '2022-04-09', '2022-04-09', '2022-04-10', '2022-04-11', '2022-04-12', '2022-04-13', '2022-04-14', '2022-04-15', '2022-04-16', '2022-04-16', '2022-04-17', '2022-04-18', '2022-04-19', '2022-04-20', '2022-04-21', '2022-04-22', '2022-04-23', '2022-04-23', '2022-04-24', '2022-04-25', '2022-04-26', '2022-04-27', '2022-04-28', '2022-04-29', '2022-04-30', '2022-04-30', '2022-05-01', '2022-05-02', '2022-05-03', '2022-05-04', '2022-05-05', '2022-05-06', '2022-05-07', '2022-05-07', '2022-05-08', '2022-05-09', '2022-05-10', '2022-05-11', '2022-05-12', '2022-05-13', '2022-05-14', '2022-05-14', '2022-05-15', '2022-05-16', '2022-05-17', '2022-05-18', '2022-05-19', '2022-05-20', '2022-05-21']\n"
     ]
    }
   ],
   "source": [
    "# Check the date coverage of your data.\n",
    "dates_contained_in_data = []\n",
    "for d in data:\n",
    "    dates_contained_in_data += list(d['near_earth_objects'].keys())\n",
    "\n",
    "print(sorted(dates_contained_in_data))"
   ]
  },
  {
   "cell_type": "code",
   "execution_count": 54,
   "metadata": {},
   "outputs": [],
   "source": [
    "from src.utils import get_a_random_chunk_property"
   ]
  },
  {
   "cell_type": "code",
   "execution_count": 55,
   "metadata": {},
   "outputs": [
    {
     "name": "stdout",
     "output_type": "stream",
     "text": [
      "date: 2022-05-14\n",
      "NEO name: (2022 KF2)\n",
      "id: 54280043\n"
     ]
    }
   ],
   "source": [
    "get_a_random_chunk_property(data)"
   ]
  },
  {
   "cell_type": "markdown",
   "metadata": {},
   "source": [
    "For the remaining tasks, you have to organize the data as pd.DataFrame so as to suit the specific need in each task. This part may require a considerably amount of efforts, which is normal in data science and analytics works."
   ]
  },
  {
   "cell_type": "markdown",
   "metadata": {},
   "source": [
    "### Task 2: Data Analysis\n",
    "\n",
    "- Calculate the average size of the NEOs for each day.\n",
    "- Determine the proportion of NEOs that are potentially hazardous.\n",
    "- Find the NEO with the closest approach distance for each day.\n",
    "- Use statistical methods to analyze the data. For example, calculate the mean, median, mode, and standard deviation of the NEO sizes. Determine if the size of a NEO is correlated with whether it is potentially hazardous."
   ]
  },
  {
   "cell_type": "code",
   "execution_count": 56,
   "metadata": {},
   "outputs": [],
   "source": [
    "#Printing the data as json type:\n",
    "\n",
    "#print(json.dumps(data, indent=4))  # indent=4 for pretty printing"
   ]
  },
  {
   "cell_type": "code",
   "execution_count": 57,
   "metadata": {},
   "outputs": [
    {
     "name": "stdout",
     "output_type": "stream",
     "text": [
      "{\n",
      "    \"2022-01-01\": 111.46928827372251,\n",
      "    \"2022-01-02\": 113.28381130161922,\n",
      "    \"2022-01-03\": 29.35196974384583,\n",
      "    \"2022-01-04\": 80.17934406791666,\n",
      "    \"2022-01-05\": 111.00679120945001,\n",
      "    \"2022-01-06\": 124.67935444224119,\n",
      "    \"2022-01-07\": 92.805847259825,\n",
      "    \"2022-01-08\": 83.58505965538887,\n",
      "    \"2022-01-09\": 80.07239285639285,\n",
      "    \"2022-01-10\": 58.290116179296426,\n",
      "    \"2022-01-11\": 74.123331901475,\n",
      "    \"2022-01-12\": 100.8102786997675,\n",
      "    \"2022-01-13\": 90.7287691845342,\n",
      "    \"2022-01-14\": 156.5908914663571,\n",
      "    \"2022-01-15\": 94.58464650387778,\n",
      "    \"2022-01-16\": 90.50968707623439,\n",
      "    \"2022-01-17\": 101.06386600330481,\n",
      "    \"2022-01-18\": 89.68219161990358,\n",
      "    \"2022-01-19\": 68.66210234722777,\n",
      "    \"2022-01-20\": 113.04951510122729,\n",
      "    \"2022-01-21\": 140.56984709634997,\n",
      "    \"2022-01-22\": 123.32232720307498,\n",
      "    \"2022-01-23\": 86.82483673308,\n",
      "    \"2022-01-24\": 89.43071762050558,\n",
      "    \"2022-01-25\": 109.82600041184706,\n",
      "    \"2022-01-26\": 68.93102401171176,\n",
      "    \"2022-01-27\": 96.48305553426,\n",
      "    \"2022-01-28\": 76.28779326382222,\n",
      "    \"2022-01-29\": 66.48405386960668,\n",
      "    \"2022-01-30\": 148.39069841435588,\n",
      "    \"2022-01-31\": 105.42349277970906,\n",
      "    \"2022-02-01\": 79.41068102615475,\n",
      "    \"2022-02-02\": 103.5914209197925,\n",
      "    \"2022-02-03\": 66.72950835674003,\n",
      "    \"2022-02-04\": 101.97378029004332,\n",
      "    \"2022-02-05\": 136.1938186035591,\n",
      "    \"2022-02-06\": 82.50163310319229,\n",
      "    \"2022-02-07\": 158.99877937554615,\n",
      "    \"2022-02-08\": 57.39057058978594,\n",
      "    \"2022-02-09\": 104.84676649373827,\n",
      "    \"2022-02-10\": 115.1825836546075,\n",
      "    \"2022-02-11\": 84.79556469330001,\n",
      "    \"2022-02-12\": 142.49050737767337,\n",
      "    \"2022-02-13\": 79.80972839,\n",
      "    \"2022-02-14\": 77.54724813780278,\n",
      "    \"2022-02-15\": 106.70388871162187,\n",
      "    \"2022-02-16\": 84.87912108139749,\n",
      "    \"2022-02-17\": 83.9803748804182,\n",
      "    \"2022-02-18\": 84.20911010998056,\n",
      "    \"2022-02-19\": 137.34018135626522,\n",
      "    \"2022-02-20\": 173.0873887404214,\n",
      "    \"2022-02-21\": 111.74411903443077,\n",
      "    \"2022-02-22\": 91.9627671468,\n",
      "    \"2022-02-23\": 89.07693134666361,\n",
      "    \"2022-02-24\": 98.17592404653215,\n",
      "    \"2022-02-25\": 121.27297433497668,\n",
      "    \"2022-02-26\": 83.24537372958811,\n",
      "    \"2022-02-27\": 61.01751805967857,\n",
      "    \"2022-02-28\": 81.96299150149375,\n",
      "    \"2022-03-01\": 56.249120146153125,\n",
      "    \"2022-03-02\": 45.85313710009546,\n",
      "    \"2022-03-03\": 47.880302769768754,\n",
      "    \"2022-03-04\": 119.3201459048139,\n",
      "    \"2022-03-05\": 56.2603733803375,\n",
      "    \"2022-03-06\": 62.81062981892044,\n",
      "    \"2022-03-07\": 104.48464808294771,\n",
      "    \"2022-03-08\": 63.599762664574996,\n",
      "    \"2022-03-09\": 50.71650552205626,\n",
      "    \"2022-03-10\": 78.12374694605,\n",
      "    \"2022-03-11\": 99.15561942972084,\n",
      "    \"2022-03-12\": 177.7992121316864,\n",
      "    \"2022-03-13\": 113.43272959910188,\n",
      "    \"2022-03-14\": 47.49249804645527,\n",
      "    \"2022-03-15\": 82.37119470500002,\n",
      "    \"2022-03-16\": 97.08702650461946,\n",
      "    \"2022-03-17\": 59.34009541994063,\n",
      "    \"2022-03-18\": 48.3665662939154,\n",
      "    \"2022-03-19\": 78.29932440682335,\n",
      "    \"2022-03-20\": 45.534734230853324,\n",
      "    \"2022-03-21\": 94.64754616326252,\n",
      "    \"2022-03-22\": 96.18656025455769,\n",
      "    \"2022-03-23\": 111.44144463710556,\n",
      "    \"2022-03-24\": 117.66112238742916,\n",
      "    \"2022-03-25\": 98.49800035797496,\n",
      "    \"2022-03-26\": 102.51196830975,\n",
      "    \"2022-03-27\": 49.80265492053334,\n",
      "    \"2022-03-28\": 196.35653672569288,\n",
      "    \"2022-03-29\": 101.63245204019287,\n",
      "    \"2022-03-30\": 118.6518883343591,\n",
      "    \"2022-03-31\": 58.98761409670434,\n",
      "    \"2022-04-01\": 76.64105079674165,\n",
      "    \"2022-04-02\": 64.87160141665001,\n",
      "    \"2022-04-03\": 142.67649974773465,\n",
      "    \"2022-04-04\": 60.212177487463144,\n",
      "    \"2022-04-05\": 97.42698380309317,\n",
      "    \"2022-04-06\": 81.15997787817084,\n",
      "    \"2022-04-07\": 77.40330897197813,\n",
      "    \"2022-04-08\": 91.26143292732353,\n",
      "    \"2022-04-09\": 121.27263298607632,\n",
      "    \"2022-04-10\": 102.16897910694617,\n",
      "    \"2022-04-11\": 81.25108956524062,\n",
      "    \"2022-04-12\": 132.35083254249284,\n",
      "    \"2022-04-13\": 82.13660180600833,\n",
      "    \"2022-04-14\": 98.32580572541667,\n",
      "    \"2022-04-15\": 61.83041445197916,\n",
      "    \"2022-04-16\": 49.330704786529985,\n",
      "    \"2022-04-17\": 85.85271028680664,\n",
      "    \"2022-04-18\": 114.76202965162503,\n",
      "    \"2022-04-19\": 91.60565263449286,\n",
      "    \"2022-04-20\": 85.61609733838947,\n",
      "    \"2022-04-21\": 48.078173801731246,\n",
      "    \"2022-04-22\": 115.48163014465356,\n",
      "    \"2022-04-23\": 97.86870466793667,\n",
      "    \"2022-04-24\": 87.10877201614333,\n",
      "    \"2022-04-25\": 81.24809023843959,\n",
      "    \"2022-04-26\": 135.44131582323124,\n",
      "    \"2022-04-27\": 68.22209381601819,\n",
      "    \"2022-04-28\": 47.15012126762084,\n",
      "    \"2022-04-29\": 95.25283876965,\n",
      "    \"2022-04-30\": 149.1698066471675,\n",
      "    \"2022-05-01\": 59.59670086119037,\n",
      "    \"2022-05-02\": 143.0687367050667,\n",
      "    \"2022-05-03\": 61.845910811546155,\n",
      "    \"2022-05-04\": 145.28889839494582,\n",
      "    \"2022-05-05\": 82.934993480325,\n",
      "    \"2022-05-06\": 133.37611368744166,\n",
      "    \"2022-05-07\": 110.38811950537223,\n",
      "    \"2022-05-08\": 99.81664164750383,\n",
      "    \"2022-05-09\": 71.09902599047692,\n",
      "    \"2022-05-10\": 139.32955961909704,\n",
      "    \"2022-05-11\": 97.88267202255295,\n",
      "    \"2022-05-12\": 135.96592240845905,\n",
      "    \"2022-05-13\": 35.229036488312495,\n",
      "    \"2022-05-14\": 107.7469401815176,\n",
      "    \"2022-05-15\": 108.6552152948,\n",
      "    \"2022-05-16\": 119.38694661589213,\n",
      "    \"2022-05-17\": 131.77210323803752,\n",
      "    \"2022-05-18\": 62.91438097763076,\n",
      "    \"2022-05-19\": 86.63518704991749,\n",
      "    \"2022-05-20\": 82.38011701311001,\n",
      "    \"2022-05-21\": 60.92665782925\n",
      "}\n"
     ]
    }
   ],
   "source": [
    "\n",
    "## Data was as list and here we convert the data list into a dictionary:\n",
    "\n",
    "data_dict = {}\n",
    "for item in data:\n",
    "    for date, neos in item['near_earth_objects'].items():\n",
    "        if date not in data_dict:\n",
    "            data_dict[date] = []\n",
    "        data_dict[date].extend(neos)\n",
    "\n",
    "# To check the date coverage of the data.\n",
    "dates_contained_in_data = list(data_dict.keys())\n",
    "\n",
    "def calculate_average_neo_size(data):\n",
    "    # To create a dictionary to store the average size of NEOs for each day\n",
    "    average_sizes = {}\n",
    "\n",
    "    # Iterate over each day in the data\n",
    "    for date, neos in data.items():\n",
    "        neo_sizes = []\n",
    "\n",
    "        # Iterate over each NEO for the current day and calculate its size\n",
    "        for neo in neos:\n",
    "            # Take the average of the estimated diameter min and max values for each NEO\n",
    "            neo_size = (neo['estimated_diameter']['meters']['estimated_diameter_min'] + \n",
    "                        neo['estimated_diameter']['meters']['estimated_diameter_max']) / 2.0\n",
    "            neo_sizes.append(neo_size)\n",
    "\n",
    "        # Calculate the average size for the current day\n",
    "        average_size = sum(neo_sizes) / len(neo_sizes)\n",
    "\n",
    "        # Store the average size for the current day in the dictionary\n",
    "        average_sizes[date] = average_size\n",
    "\n",
    "    return average_sizes\n",
    "\n",
    "average_sizes = calculate_average_neo_size(data_dict)\n",
    "average_sizes = dict(sorted(average_sizes.items()))\n",
    "\n",
    "print(json.dumps(average_sizes, indent=4))\n"
   ]
  },
  {
   "cell_type": "code",
   "execution_count": 33,
   "metadata": {},
   "outputs": [
    {
     "name": "stdout",
     "output_type": "stream",
     "text": [
      "Date: 2022-01-01\n",
      " Dangerous: 1\n",
      " Non-dangeorus: 19\n",
      "     Proportion: 5.2631578947368425 %\n",
      "Date: 2022-01-02\n",
      " Dangerous: 0\n",
      " Non-dangeorus: 13\n",
      "     Proportion: 0.0 %\n",
      "Date: 2022-01-03\n",
      " Dangerous: 0\n",
      " Non-dangeorus: 12\n",
      "     Proportion: 0.0 %\n",
      "Date: 2022-01-04\n",
      " Dangerous: 1\n",
      " Non-dangeorus: 8\n",
      "     Proportion: 12.5 %\n",
      "Date: 2022-01-05\n",
      " Dangerous: 1\n",
      " Non-dangeorus: 11\n",
      "     Proportion: 9.090909090909092 %\n",
      "Date: 2022-01-06\n",
      " Dangerous: 1\n",
      " Non-dangeorus: 16\n",
      "     Proportion: 6.25 %\n",
      "Date: 2022-01-07\n",
      " Dangerous: 1\n",
      " Non-dangeorus: 13\n",
      "     Proportion: 7.6923076923076925 %\n",
      "Date: 2022-01-08\n",
      " Dangerous: 1\n",
      " Non-dangeorus: 8\n",
      "     Proportion: 12.5 %\n",
      "Date: 2022-01-08\n",
      " Dangerous: 1\n",
      " Non-dangeorus: 8\n",
      "     Proportion: 12.5 %\n",
      "Date: 2022-01-09\n",
      " Dangerous: 0\n",
      " Non-dangeorus: 14\n",
      "     Proportion: 0.0 %\n",
      "Date: 2022-01-10\n",
      " Dangerous: 1\n",
      " Non-dangeorus: 13\n",
      "     Proportion: 7.6923076923076925 %\n",
      "Date: 2022-01-11\n",
      " Dangerous: 0\n",
      " Non-dangeorus: 18\n",
      "     Proportion: 0.0 %\n",
      "Date: 2022-01-12\n",
      " Dangerous: 1\n",
      " Non-dangeorus: 19\n",
      "     Proportion: 5.2631578947368425 %\n",
      "Date: 2022-01-13\n",
      " Dangerous: 1\n",
      " Non-dangeorus: 18\n",
      "     Proportion: 5.555555555555555 %\n",
      "Date: 2022-01-14\n",
      " Dangerous: 1\n",
      " Non-dangeorus: 13\n",
      "     Proportion: 7.6923076923076925 %\n",
      "Date: 2022-01-15\n",
      " Dangerous: 2\n",
      " Non-dangeorus: 16\n",
      "     Proportion: 12.5 %\n",
      "Date: 2022-01-15\n",
      " Dangerous: 2\n",
      " Non-dangeorus: 16\n",
      "     Proportion: 12.5 %\n",
      "Date: 2022-01-16\n",
      " Dangerous: 1\n",
      " Non-dangeorus: 15\n",
      "     Proportion: 6.666666666666667 %\n",
      "Date: 2022-01-17\n",
      " Dangerous: 2\n",
      " Non-dangeorus: 19\n",
      "     Proportion: 10.526315789473685 %\n",
      "Date: 2022-01-18\n",
      " Dangerous: 1\n",
      " Non-dangeorus: 13\n",
      "     Proportion: 7.6923076923076925 %\n",
      "Date: 2022-01-19\n",
      " Dangerous: 1\n",
      " Non-dangeorus: 8\n",
      "     Proportion: 12.5 %\n",
      "Date: 2022-01-20\n",
      " Dangerous: 3\n",
      " Non-dangeorus: 19\n",
      "     Proportion: 15.789473684210526 %\n",
      "Date: 2022-01-21\n",
      " Dangerous: 0\n",
      " Non-dangeorus: 15\n",
      "     Proportion: 0.0 %\n",
      "Date: 2022-01-22\n",
      " Dangerous: 0\n",
      " Non-dangeorus: 12\n",
      "     Proportion: 0.0 %\n"
     ]
    }
   ],
   "source": [
    "# Write your code\n",
    "import pandas as pd\n",
    "\n",
    "# data is a list of dicts containing json response data\n",
    "# DATA TYPE: <class 'list'>\n",
    "# DATA0 TYPE: <class 'dict'>\n",
    "# NEO TYPE: <class 'dict'>\n",
    "# INDEX TYPE <class 'tuple'>\n",
    "# temp_df is a pandas dataframe\n",
    "# write down what data types are needed!\n",
    "\n",
    "#print(\"Num of days used: \", num_days)\n",
    "#print(\"Num of weeks used:\", int(num_days/7))\n",
    "for val in range(int(num_days/7)): # convert to num of weeks\n",
    "    neo = data[val]['near_earth_objects']\n",
    "    for neo_object in sorted(neo.items()):\n",
    "        print(\"Date:\", neo_object[0])\n",
    "        temp_df = pd.json_normalize(neo, record_path=neo_object[0])\n",
    "        # print(temp_df.head())\n",
    "        # print(temp_df['absolute_magnitude_h'].describe())\n",
    "\n",
    "        # hazardous asteroid calculations\n",
    "        df_dangerous_false = len(temp_df[temp_df['is_potentially_hazardous_asteroid']==False])\n",
    "        df_dangerous_true = len(temp_df[temp_df['is_potentially_hazardous_asteroid']==True])\n",
    "        print(\" Dangerous:\", df_dangerous_true)\n",
    "        print(\" Non-dangeorus:\", df_dangerous_false)\n",
    "        print(\"     Proportion:\", 100*df_dangerous_true/df_dangerous_false, \"%\")\n",
    "\n",
    "        # yet to expand near miss data\n",
    "\n",
    "\n",
    "# df = pd.DataFrame(data)\n",
    "# df.describe()\n",
    "# below just for reference\n",
    "temp = {\n",
    "    'links': {\n",
    "        'next': 'http://api.nasa.gov/neo/rest/v1/feed?start_date=2022-01-08&end_date=2022-01-15&detailed=false&api_key=DEMO_KEY',\n",
    "        'previous': 'http://api.nasa.gov/neo/rest/v1/feed?start_date=2021-12-25&end_date=2022-01-01&detailed=false&api_key=DEMO_KEY',\n",
    "        'self': 'http://api.nasa.gov/neo/rest/v1/feed?start_date=2022-01-01&end_date=2022-01-08&detailed=false&api_key=DEMO_KEY'\n",
    "    },\n",
    "    'element_count': 125,\n",
    "    'near_earth_objects': {\n",
    "        '2022-01-07': [{\n",
    "            'links': {\n",
    "                'self': 'http://api.nasa.gov/neo/rest/v1/neo/2216523?api_key=DEMO_KEY'\n",
    "            },\n",
    "            'id': '2216523',\n",
    "            'neo_reference_id': '2216523',\n",
    "            'name': '216523 (2001 HY7)',\n",
    "            'nasa_jpl_url': 'http://ssd.jpl.nasa.gov/sbdb.cgi?sstr=2216523',\n",
    "            'absolute_magnitude_h': 20.7,\n",
    "            'estimated_diameter': {\n",
    "                'kilometers': {\n",
    "                    'estimated_diameter_min': 0.1925550782,\n",
    "                    'estimated_diameter_max': 0.4305662442\n",
    "                },\n",
    "                'meters': {\n",
    "                    'estimated_diameter_min': 192.5550781879,\n",
    "                    'estimated_diameter_max': 430.566244241\n",
    "                },\n",
    "                'miles': {\n",
    "                    'estimated_diameter_min': 0.1196481415,\n",
    "                    'estimated_diameter_max': 0.2675413778\n",
    "                },\n",
    "                'feet': {\n",
    "                    'estimated_diameter_min': 631.7424027221,\n",
    "                    'estimated_diameter_max': 1412.6189567557\n",
    "                }\n",
    "            },\n",
    "            'is_potentially_hazardous_asteroid': True,\n",
    "            'close_approach_data': [{\n",
    "                'close_approach_date': '2022-01-07',\n",
    "                'close_approach_date_full': '2022-Jan-07 06:54',\n",
    "                'epoch_date_close_approach': 1641538440000,\n",
    "                'relative_velocity': {\n",
    "                    'kilometers_per_second': '13.0121884925',\n",
    "                    'kilometers_per_hour': '46843.8785729622',\n",
    "                    'miles_per_hour': '29106.9644388498'\n",
    "                },\n",
    "                'miss_distance': {\n",
    "                    'astronomical': '0.3880911625',\n",
    "                    'lunar': '150.9674622125',\n",
    "                    'kilometers': '58057611.275823875',\n",
    "                    'miles': '36075326.811664475'\n",
    "                },\n",
    "                'orbiting_body': 'Earth'\n",
    "            }],\n",
    "            'is_sentry_object': False\n",
    "        }]\n",
    "    }\n",
    "}\n",
    "# print(\"TEMP TYPE:\", type(temp))\n",
    "\n",
    "# new_df = pd.concat([pd.DataFrame(pd.json_normalize(x)) for x in df['near_earth_objects']],ignore_index=True)\n",
    "# print(new_df)\n",
    "# characteristics_df = \n",
    "# approach_df = \n",
    "# print()"
   ]
  },
  {
   "cell_type": "code",
   "execution_count": null,
   "metadata": {},
   "outputs": [],
   "source": []
  },
  {
   "cell_type": "markdown",
   "metadata": {},
   "source": [
    "### Task 3: Data Visualization Part A\n",
    "\n",
    "- Create a line plot of the number of NEOs per week.\n",
    "- Create a histogram of the distribution of NEO sizes.\n",
    "- Create a bar plot of the average NEO size per week.\n",
    "- Use a library like Seaborn to create more complex visualizations, such as a box plot of the NEO sizes or a heat map of the number of NEOs per week. **Be creative**!"
   ]
  },
  {
   "cell_type": "code",
   "execution_count": 77,
   "metadata": {},
   "outputs": [],
   "source": [
    "# Write your code"
   ]
  },
  {
   "cell_type": "markdown",
   "metadata": {},
   "source": [
    "### Task 4: Data Visualization Part B\n",
    "\n",
    "- Create a pie chart of the proportion of hazardous vs non-hazardous NEOs.\n",
    "- Create a scatter plot of the correlation between NEO size and close approach distance.\n",
    "- Customize the appearance of your plots (e.g., colors, labels, titles).\n",
    "- Create interactive visualizations using a library like Plotly. For example, create an interactive scatter plot where you can hover over each point to see more information about the NEO. **Be creative!**"
   ]
  },
  {
   "cell_type": "code",
   "execution_count": 99,
   "metadata": {},
   "outputs": [],
   "source": [
    "# Write your code"
   ]
  },
  {
   "cell_type": "markdown",
   "metadata": {},
   "source": [
    "### Task 5: Interpretation of Results\n",
    "\n",
    "- Interpret the results of your data visualization in part A and B. \n",
    "- What insights can you gain about NEOs from your results? Summarizing your findings.\n",
    "- Use your findings to make predictions or recommendations. For example, if you found that larger NEOs are more likely to be potentially hazardous, you could recommend that more resources be allocated to tracking large NEOs. **Be creative!**\n",
    "- Identify, understand, and explain one scientific paper, on a clustering or classification method of relevance that could help Task 5. You don't have to implement it, you just need to justify in this notebook why the method in the scientific paper could contribute in analysis or interpretation of the results."
   ]
  },
  {
   "cell_type": "code",
   "execution_count": null,
   "metadata": {},
   "outputs": [],
   "source": [
    "# Write your code"
   ]
  },
  {
   "cell_type": "markdown",
   "metadata": {},
   "source": [
    "### Task 6: Presentation and Documentation\n",
    "\n",
    "- Make this project as part of your presentation, **using beamer in LaTeX**. \n",
    "- This should include an overview of your work, the results of your data analysis, and the insights you gained from your results."
   ]
  },
  {
   "cell_type": "markdown",
   "metadata": {},
   "source": []
  }
 ],
 "metadata": {
  "kernelspec": {
   "display_name": "Python 3 (ipykernel)",
   "language": "python",
   "name": "python3"
  },
  "language_info": {
   "codemirror_mode": {
    "name": "ipython",
    "version": 3
   },
   "file_extension": ".py",
   "mimetype": "text/x-python",
   "name": "python",
   "nbconvert_exporter": "python",
   "pygments_lexer": "ipython3",
   "version": "3.9.16"
  }
 },
 "nbformat": 4,
 "nbformat_minor": 2
}
