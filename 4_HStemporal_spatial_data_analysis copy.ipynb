{
 "cells": [
  {
   "attachments": {},
   "cell_type": "markdown",
   "metadata": {},
   "source": [
    "# Project 1: Analysis and Forecasting of NYC Taxi Rides"
   ]
  },
  {
   "cell_type": "code",
   "execution_count": null,
   "metadata": {},
   "outputs": [],
   "source": [
    "# The code makes sure that once there is change in the 'src/' folder, the \n",
    "# change will be automatically reloaded in the notebook.\n",
    "%reload_ext autoreload\n",
    "%autoreload 2\n",
    "%aimport src"
   ]
  },
  {
   "attachments": {},
   "cell_type": "markdown",
   "metadata": {},
   "source": [
    "### Task 1: Understanding the Data\n",
    "\n",
    "Yellow and green taxi trip records include fields capturing \n",
    "- pick-up and drop-off dates/times\n",
    "- pick-up and drop-off locations\n",
    "- trip distances\n",
    "- itemized fares\n",
    "- rate types\n",
    "- payment types\n",
    "- driver-reported passenger counts \n",
    "  \n",
    "The data used in the attached datasets were collected and provided to the NYC Taxi and Limousine Commission (TLC) by technology providers authorized under the Taxicab & Livery Passenger Enhancement Programs (TPEP/LPEP). The trip data was not created by the TLC, and TLC makes no representations as to the accuracy of these data.\n",
    "\n",
    "**Remark**: Feel free to change the *months* and *year* in the code below, if you need more/less data. "
   ]
  },
  {
   "cell_type": "code",
   "execution_count": null,
   "metadata": {},
   "outputs": [],
   "source": [
    "import pandas as pd\n",
    "from src.utils import load_data_from_google_drive\n",
    "\n",
    "# Define the base URLs for the yellow and green taxi data\n",
    "base_url_yellow = \"https://d37ci6vzurychx.cloudfront.net/trip-data/yellow_tripdata_{year}-{month}.parquet\"\n",
    "base_url_green = \"https://d37ci6vzurychx.cloudfront.net/trip-data/green_tripdata_{year}-{month}.parquet\"\n",
    "zones_url = 'https://drive.google.com/file/d/12VgjWXkyEBsxzuKFxIkAevEbao85ei0T/view?usp=sharing'\n",
    "\n",
    "# Define the months and year you're interested in\n",
    "months = ['01', '02', '03', '04', '05', '06', '07', '08', '09', '10', '11', '12']\n",
    "year = '2022'\n",
    "\n",
    "# Create empty lists to store the dataframes\n",
    "df_yellow_list = []\n",
    "df_green_list = []\n",
    "\n",
    "# Loop over the months\n",
    "for month in months:\n",
    "    # Create the full URL for the yellow and green taxi data\n",
    "    dfy = pd.read_parquet(base_url_yellow.format(year=year, month=month))\n",
    "    dfg = pd.read_parquet(base_url_green.format(year=year, month=month))\n",
    "    \n",
    "    # Download the data and append it to the list\n",
    "    df_yellow_list.append(dfy)\n",
    "    df_green_list.append(dfg)\n",
    "\n",
    "# Concatenate the list of dataframes into a single dataframe\n",
    "df_yellow = pd.concat(df_yellow_list)\n",
    "df_green = pd.concat(df_green_list)\n",
    "\n",
    "df_zones = load_data_from_google_drive(url=zones_url)\n"
   ]
  },
  {
   "cell_type": "code",
   "execution_count": null,
   "metadata": {},
   "outputs": [],
   "source": [
    "df_yellow.head(10)"
   ]
  },
  {
   "cell_type": "code",
   "execution_count": null,
   "metadata": {},
   "outputs": [],
   "source": [
    "df_green.head(5)"
   ]
  },
  {
   "cell_type": "code",
   "execution_count": null,
   "metadata": {},
   "outputs": [],
   "source": [
    "from src.utils import create_scatterplot\n",
    "\n",
    "create_scatterplot(\n",
    "    df_yellow.sample(50), \n",
    "    x_col = 'trip_distance', \n",
    "    y_col = 'fare_amount', \n",
    "    title = 'trip_distance vs fare_amount', \n",
    "    xlabel = 'trip_distance',\n",
    "    ylabel = 'fare_amount',\n",
    ")"
   ]
  },
  {
   "attachments": {},
   "cell_type": "markdown",
   "metadata": {},
   "source": [
    "### Task 2: Exploratory Data Analysis\n",
    "Conduct exploratory data analysis to understand the patterns and relationships in the data. This includes analyzing the distribution of trip distances, fares, and passenger counts, as well as the relationship between these variables."
   ]
  },
  {
   "attachments": {},
   "cell_type": "markdown",
   "metadata": {},
   "source": [
    "Tip amount vs fare amount, yellow fare price vs green fare price, zone pickup vs tip amount, distance vs fare amount, passenger count vs fare amount or total amount"
   ]
  },
  {
   "attachments": {},
   "cell_type": "markdown",
   "metadata": {},
   "source": [
    "Comparing Tip Amount to Fare Amount in a sample of Yellow taxis"
   ]
  },
  {
   "cell_type": "code",
   "execution_count": null,
   "metadata": {},
   "outputs": [],
   "source": [
    "# Write your code\n",
    "from src.utils import create_scatterplot\n",
    "\n",
    "create_scatterplot(\n",
    "    df_yellow.sample(1000), \n",
    "    x_col = 'tip_amount', \n",
    "    y_col = 'fare_amount', \n",
    "    title = 'tip_amount vs fare_amount', \n",
    "    xlabel = 'tip_amount',\n",
    "    ylabel = 'fare_amount',\n",
    ")"
   ]
  },
  {
   "attachments": {},
   "cell_type": "markdown",
   "metadata": {},
   "source": [
    "Now we will remove the passangers that did not tip"
   ]
  },
  {
   "cell_type": "code",
   "execution_count": null,
   "metadata": {},
   "outputs": [],
   "source": [
    "# Remove rows where tip_amount is equal to 0\n",
    "df_yellow_filtered = df_yellow.loc[df_yellow['tip_amount'] != 0]\n",
    "\n",
    "from src.utils import create_scatterplot\n",
    "\n",
    "create_scatterplot(\n",
    "    df_yellow_filtered.sample(200), \n",
    "    x_col = 'tip_amount', \n",
    "    y_col = 'fare_amount', \n",
    "    title = 'tip_amount vs fare_amount', \n",
    "    xlabel = 'tip_amount',\n",
    "    ylabel = 'fare_amount',\n",
    ")\n"
   ]
  },
  {
   "attachments": {},
   "cell_type": "markdown",
   "metadata": {},
   "source": [
    "This data shows a general trend that the larger the fare amount is, the bigger the tip will be. This excludes people who did not tip."
   ]
  },
  {
   "attachments": {},
   "cell_type": "markdown",
   "metadata": {},
   "source": [
    "Comparing passenger amount to total amount in yellow taxis"
   ]
  },
  {
   "cell_type": "code",
   "execution_count": null,
   "metadata": {},
   "outputs": [],
   "source": [
    "from src.utils import create_scatterplot\n",
    "\n",
    "create_scatterplot(\n",
    "    df_yellow.sample(200), \n",
    "    x_col = 'passenger_count', \n",
    "    y_col = 'total_amount', \n",
    "    title = 'passenger_count vs total_amount', \n",
    "    xlabel = 'passenger_count',\n",
    "    ylabel = 'total_amount',\n",
    ")"
   ]
  },
  {
   "attachments": {},
   "cell_type": "markdown",
   "metadata": {},
   "source": [
    "As seen above, there is no relation to Passenger count and total amount. No yellow taxi had a fee for passenger amount. "
   ]
  },
  {
   "attachments": {},
   "cell_type": "markdown",
   "metadata": {},
   "source": [
    "Average tip amount in green taxis vs yellow taxis"
   ]
  },
  {
   "cell_type": "code",
   "execution_count": null,
   "metadata": {},
   "outputs": [],
   "source": [
    "print(\"Average tip of yellow taxi rider:\", df_yellow['tip_amount'].mean())\n",
    "print(\"Average tip of green taxi rider:\", df_green['tip_amount'].mean())"
   ]
  },
  {
   "attachments": {},
   "cell_type": "markdown",
   "metadata": {},
   "source": [
    "The average tip between the two types of taxis is roughly a $5 difference. We found this to be surprising so we decided to look at the amount of rides the green taxis get vs the yellow taxis and to see if that might make a difference."
   ]
  },
  {
   "cell_type": "code",
   "execution_count": null,
   "metadata": {},
   "outputs": [],
   "source": [
    "# looking at the amount of fares difference in yellow vs green taxis\n",
    "print(df_yellow.shape[0])\n",
    "print(df_green.shape[0])\n",
    "\n",
    "taxi_diff = df_yellow.shape[0] - df_green.shape[0]\n",
    "\n",
    "print(taxi_diff)"
   ]
  },
  {
   "attachments": {},
   "cell_type": "markdown",
   "metadata": {},
   "source": [
    "There are 38,815,696 more yellow taxi rides then green taxi rides in the year 2022."
   ]
  },
  {
   "cell_type": "code",
   "execution_count": null,
   "metadata": {},
   "outputs": [],
   "source": [
    "# looking at the average distance traveled between green and yellow taxis\n",
    "print(\"Average distance of yellow taxi rider:\", df_yellow['trip_distance'].mean())\n",
    "print(\"Average distance of green taxi rider:\", df_green['trip_distance'].mean())"
   ]
  },
  {
   "attachments": {},
   "cell_type": "markdown",
   "metadata": {},
   "source": [
    "This is a really interesting difference we found. The average distance the taxis travel are completely different. We may look into this later to see why there is such a big difference. "
   ]
  },
  {
   "attachments": {},
   "cell_type": "markdown",
   "metadata": {},
   "source": [
    "### Task 3: Spatial Analysis\n",
    "Use Kepler.gl (https://kepler.gl/) or similar tools/packages to visualize the spatial patterns of taxi rides. This includes the pickup and dropoff locations, as well as the routes taken. Analyze the spatial patterns to identify hotspots of taxi demand.\n",
    "\n",
    "You can find a good tutorial on https://docs.kepler.gl/docs/keplergl-jupyter#install for how to use it in jupyter notebook with python.\n",
    "\n",
    "**Hint** In order to visualize the pickup/dropoff location geographically, you might need to know the latitude (lat) and longitude (lng) for each location. You can find the corresponding information in the dataframe \"df_zones\"."
   ]
  },
  {
   "cell_type": "code",
   "execution_count": null,
   "metadata": {},
   "outputs": [],
   "source": [
    "df_zones.head(5)"
   ]
  },
  {
   "cell_type": "code",
   "execution_count": null,
   "metadata": {},
   "outputs": [],
   "source": [
    "# Write your code"
   ]
  },
  {
   "attachments": {},
   "cell_type": "markdown",
   "metadata": {},
   "source": [
    "### Task 4: Temporal Analysis\n",
    "Analyze the temporal patterns of taxi rides. This includes the number of rides by time of day, day of the week, and month of the year. Also, analyze the relationship between temporal patterns and other variables, such as trip distance and fare.\n",
    "\n",
    "You can find very good code examples to use on this page https://www.machinelearningplus.com/time-series/time-series-analysis-python/?utm_content=cmp-true"
   ]
  },
  {
   "cell_type": "code",
   "execution_count": null,
   "metadata": {},
   "outputs": [],
   "source": [
    "# Write your code"
   ]
  },
  {
   "attachments": {},
   "cell_type": "markdown",
   "metadata": {},
   "source": [
    "### Task 5: Time-Series Forecasting\n",
    "Use Prophet or a similar tool to forecast the number of taxi rides in the future, respectively for green and yellow taxis. This includes creating a time-series model, tuning its parameters, and validating its performance. Also, interpret the model's predictions and identify the factors driving the forecasted trends.\n",
    "\n",
    "A good example for using Prophet to do time-series forecasting can be found here https://www.kaggle.com/code/prashant111/tutorial-time-series-forecasting-with-prophet\n",
    "\n",
    "**Hint**: In order to evaluate how your model performs, you need to split the dataset to be train and test. For time-series data, we cannot randomly select the data record (i.e. the rows) to be in train or test. Namely, all training data must be before the earliest test data. In other words, the model is always trained on historical data and then used to forecast the future."
   ]
  },
  {
   "cell_type": "code",
   "execution_count": null,
   "metadata": {},
   "outputs": [],
   "source": [
    "# Write your code"
   ]
  },
  {
   "attachments": {},
   "cell_type": "markdown",
   "metadata": {},
   "source": [
    "### Task 6: Report and Presentation\n",
    "- Make this project as part of your presentation, **using beamer in LaTeX**. \n",
    "- This includes summarizing your methodology, presenting your results, and discussing your conclusions. Also, identify the limitations of your analysis and suggest areas for future research."
   ]
  },
  {
   "attachments": {},
   "cell_type": "markdown",
   "metadata": {},
   "source": [
    "Things to consider: Covid ups and downs, Uber/Lyft"
   ]
  },
  {
   "attachments": {},
   "cell_type": "markdown",
   "metadata": {},
   "source": []
  }
 ],
 "metadata": {
  "kernelspec": {
   "display_name": "base",
   "language": "python",
   "name": "python3"
  },
  "language_info": {
   "codemirror_mode": {
    "name": "ipython",
    "version": 3
   },
   "file_extension": ".py",
   "mimetype": "text/x-python",
   "name": "python",
   "nbconvert_exporter": "python",
   "pygments_lexer": "ipython3",
   "version": "3.10.9"
  },
  "orig_nbformat": 4
 },
 "nbformat": 4,
 "nbformat_minor": 2
}
